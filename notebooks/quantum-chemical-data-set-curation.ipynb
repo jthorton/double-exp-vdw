{
 "cells": [
  {
   "attachments": {},
   "cell_type": "markdown",
   "metadata": {},
   "source": [
    "# Creating training and benchmarking datasets\n",
    "This notebook will guide you through the process of creating the quantum chemical (QC) training and benchmarking datasets used in the development of the transferable double exponential force field (DEFF).\n",
    "\n",
    "## Quantum chemical\n",
    "\n",
    "To create the valence fitting dataset we follow the process used to create the original Sage fitting dataset but add in an extra filtering stage to remove molecules with vdW types, not refit by the physical property training set.\n",
    "\n",
    "### Warning QCArchive datasets are not static!\n",
    "Scripts filtering QCArchive datasets are not always reproducible as calculations may not be finished or the dataset could be later expanded so we include OpenFF-QCSubmit datasets which contain the record IDs and serve as a static reproducible dataset. This notebook just shows how the dataset was first built. "
   ]
  },
  {
   "cell_type": "code",
   "execution_count": null,
   "metadata": {},
   "outputs": [],
   "source": [
    "import copy\n",
    "import json\n",
    "import logging\n",
    "from collections import defaultdict\n",
    "from multiprocessing import Pool\n",
    "from tempfile import NamedTemporaryFile\n",
    "from pathlib import Path\n",
    "from openff.qcsubmit.results import (\n",
    "    OptimizationResultCollection, TorsionDriveResultCollection,\n",
    ")\n",
    "from openff.qcsubmit.results.filters import (\n",
    "    ConformerRMSDFilter, ConnectivityFilter,\n",
    "    ElementFilter,\n",
    "    HydrogenBondFilter,\n",
    "    RecordStatusFilter,\n",
    "    ResultRecordFilter,\n",
    "    CMILESResultFilter,\n",
    "    SMILESFilter\n",
    ")\n",
    "import qcelemental\n",
    "from openeye import oechem\n",
    "from openff.toolkit.topology import Molecule\n",
    "from openff.toolkit.topology.molecule import SmilesParsingError\n",
    "from openff.toolkit.typing.engines.smirnoff import ForceField\n",
    "from openff.toolkit.utils import UndefinedStereochemistryError\n",
    "from qcportal import FractalClient\n",
    "from qcportal.models import TorsionDriveRecord\n",
    "from qcportal.models.records import RecordStatusEnum\n",
    "from tqdm import tqdm"
   ]
  },
  {
   "cell_type": "code",
   "execution_count": null,
   "metadata": {},
   "outputs": [],
   "source": [
    "class UndefinedStereoFilter(ResultRecordFilter):\n",
    "    \"\"\"\n",
    "    OpenFF-QCSubmit style dataset filtering class to remove molecules with missing stereochemistry information.\n",
    "    \"\"\"\n",
    "    def _filter_function(self, result, record, molecule) -> bool:\n",
    "\n",
    "        has_stereochemistry = True\n",
    "\n",
    "        molecule = copy.deepcopy(molecule)\n",
    "        molecule._conformers = [molecule.conformers[0]]\n",
    "\n",
    "        try:\n",
    "\n",
    "            with NamedTemporaryFile(suffix=\".sdf\") as file:\n",
    "                molecule.to_file(file.name, \"SDF\")\n",
    "                molecule.from_file(file.name)\n",
    "\n",
    "        except UndefinedStereochemistryError:\n",
    "            has_stereochemistry = False\n",
    "\n",
    "        return has_stereochemistry"
   ]
  },
  {
   "cell_type": "code",
   "execution_count": null,
   "metadata": {},
   "outputs": [],
   "source": [
    "def label_ids(record_and_molecule, force_field, parameter_types):\n",
    "    \"\"\"\n",
    "    Label molecules with the given forcefield and record which parameter of the given parameter_type (bonds, angles torsions ...) are exercised.\n",
    "    \"\"\"\n",
    "    record, molecule = record_and_molecule\n",
    "\n",
    "    full_labels = force_field.label_molecules(molecule.to_topology())[0]\n",
    "\n",
    "    parameter_ids = set()\n",
    "\n",
    "    for parameter_type in parameter_types:\n",
    "\n",
    "        parameter_labels = full_labels[parameter_type]\n",
    "\n",
    "        for indices, parameter in parameter_labels.items():\n",
    "\n",
    "            if isinstance(record, TorsionDriveRecord) and {*indices[1:3]} != {\n",
    "                *record.keywords.dihedrals[0][1:3]\n",
    "            }:\n",
    "                continue\n",
    "\n",
    "            parameter_ids.add(parameter.id)\n",
    "\n",
    "    return [*parameter_ids]"
   ]
  },
  {
   "cell_type": "code",
   "execution_count": null,
   "metadata": {},
   "outputs": [],
   "source": [
    "def select_parameters(training_set, parameter_types, output_path, force_field):\n",
    "    \"\"\"Select which parameters should be optimised for the training set, the parameters must be exercised by 5 unique entries to be optimisable.\"\"\"\n",
    "\n",
    "    # Print out coverage information.\n",
    "    coverage = defaultdict(int)\n",
    "\n",
    "\n",
    "    for record_and_molecule in tqdm(training_set.to_records(), total=training_set.n_results):\n",
    "        parameter_ids = label_ids(record_and_molecule=record_and_molecule, force_field=force_field, parameter_types=parameter_types)\n",
    "        for parameter_id in parameter_ids:\n",
    "            coverage[parameter_id] += 1\n",
    "\n",
    "    # Save out the SMIRKS which should be trained against this set.\n",
    "    with open(output_path, \"w\") as file:\n",
    "\n",
    "        selected_parameters = defaultdict(list)\n",
    "\n",
    "        for parameter_type in parameter_types:\n",
    "\n",
    "            for parameter_id, count in coverage.items():\n",
    "\n",
    "                found_parameters = force_field.get_parameter_handler(\n",
    "                    parameter_type\n",
    "                ).get_parameter({\"id\": parameter_id})\n",
    "\n",
    "                if count < 5 or len(found_parameters) == 0:\n",
    "                    continue\n",
    "\n",
    "                selected_parameters[parameter_type].append(found_parameters[0].smirks)\n",
    "\n",
    "        json.dump(selected_parameters, file)"
   ]
  },
  {
   "attachments": {},
   "cell_type": "markdown",
   "metadata": {},
   "source": [
    "Set up a set of common filters which will be applied to both torsiondrive and optimisation valence training sets. Here we use Sage to work out which SMIRKS types to optimise as they are the same in the DEFF."
   ]
  },
  {
   "cell_type": "code",
   "execution_count": null,
   "metadata": {},
   "outputs": [],
   "source": [
    "logging.basicConfig(level=logging.INFO)\n",
    "Path(\"./quantum-chemical-data-sets\").mkdir(parents=True, exist_ok=True)\n",
    "# use sage as it has the same SMIRKS types as DEFF\n",
    "initial_forcefield = ForceField('openff_unconstrained-2.0.0.offxml', load_plugins=True, allow_cosmetic_attributes=True)\n",
    "# set up the common filters\n",
    "default_filters = [\n",
    "    # only keep complete records\n",
    "    RecordStatusFilter(status=RecordStatusEnum.complete),\n",
    "    # keep records with no conectivity changes (tautomers of the input molecule)\n",
    "    ConnectivityFilter(tolerance=1.2),\n",
    "    # remove molecules with missing stereochemistry\n",
    "    UndefinedStereoFilter(),\n",
    "    ElementFilter(\n",
    "        # The elements supported by SMIRNOFF\n",
    "        allowed_elements=[\"H\", \"C\", \"N\", \"O\", \"Cl\", \"Br\"]\n",
    "    ),\n",
    "]"
   ]
  },
  {
   "attachments": {},
   "cell_type": "markdown",
   "metadata": {},
   "source": [
    "We use OpenFF-QCSubmit to build a single torsiondrive collection from many torsion datasets stored on the public QCArchive instance. "
   ]
  },
  {
   "cell_type": "code",
   "execution_count": null,
   "metadata": {},
   "outputs": [],
   "source": [
    "# Pull down the main torsion drive and optimization sets and filter out any records\n",
    "# which have not completed or which inadvertently contain intra-molecular h-bonds.\n",
    "client = FractalClient()\n",
    "\n",
    "torsion_set = TorsionDriveResultCollection.from_server(\n",
    "    client=client,\n",
    "    datasets=[\n",
    "        \"OpenFF Gen 2 Torsion Set 1 Roche 2\",\n",
    "        \"OpenFF Gen 2 Torsion Set 2 Coverage 2\",\n",
    "        \"OpenFF Gen 2 Torsion Set 3 Pfizer Discrepancy 2\",\n",
    "        \"OpenFF Gen 2 Torsion Set 4 eMolecules Discrepancy 2\",\n",
    "        \"OpenFF Gen 2 Torsion Set 5 Bayer 2\",\n",
    "        \"OpenFF Gen 2 Torsion Set 6 supplemental 2\",\n",
    "        \"OpenFF Amide Torsion Set v1.0\"\n",
    "    ],\n",
    "    spec_name=\"default\",\n",
    ")"
   ]
  },
  {
   "cell_type": "code",
   "execution_count": null,
   "metadata": {},
   "outputs": [],
   "source": [
    "# Drop record ids with inconsistent optimization histories or which cause failures\n",
    "# in ForceBalance.\n",
    "torsion_set.entries[client.address] = [\n",
    "    entry\n",
    "    for entry in torsion_set.entries[client.address]\n",
    "    if entry.record_id\n",
    "        not in [\n",
    "            \"6098580\",\n",
    "            \"2703504\",\n",
    "            \"2703505\",\n",
    "            \"18045478\",\n",
    "        ]\n",
    "]"
   ]
  },
  {
   "attachments": {},
   "cell_type": "markdown",
   "metadata": {},
   "source": [
    "With this single dataset, we can now apply some OpenFF-QCSubmit filters to curate the dataset, here we remove any torsiondrives with internal hydrogen bonds and apply the common filters set up earlier. "
   ]
  },
  {
   "cell_type": "code",
   "execution_count": null,
   "metadata": {},
   "outputs": [],
   "source": [
    "# apply h-bond filter and all common filters\n",
    "torsion_set = torsion_set.filter(\n",
    "    HydrogenBondFilter(method=\"baker-hubbard\"), *default_filters\n",
    ")"
   ]
  },
  {
   "attachments": {},
   "cell_type": "markdown",
   "metadata": {},
   "source": [
    "We can then save the final torsion drive collection to JSON file, this is a static dataset which just contains the record Ids of the entries left after filtering, we can then easily load the collection from the file using the `TorsionDriveResultCollection.parse_file` method."
   ]
  },
  {
   "cell_type": "code",
   "execution_count": null,
   "metadata": {},
   "outputs": [],
   "source": [
    "# save the filtered torsion drive dataset to file\n",
    "with open(\"quantum-chemical-data-sets/reduced-set-td-set.json\", \"w\") as file:\n",
    "    file.write(torsion_set.json())"
   ]
  },
  {
   "attachments": {},
   "cell_type": "markdown",
   "metadata": {},
   "source": [
    "We can now analyse the final dataset to establish which proper torsion SMIRKS should be optimised."
   ]
  },
  {
   "cell_type": "code",
   "execution_count": null,
   "metadata": {},
   "outputs": [],
   "source": [
    "# work out which torsion SMIRKS should be refit\n",
    "select_parameters(\n",
    "        torsion_set,\n",
    "        parameter_types=[\"ProperTorsions\"],\n",
    "        output_path=\"quantum-chemical-data-sets/reduced-set-proper-torsions-params-smirks.json\",\n",
    "        force_field=initial_forcefield\n",
    "    )"
   ]
  },
  {
   "attachments": {},
   "cell_type": "markdown",
   "metadata": {},
   "source": [
    "Repeat the process on the optimisation datasets."
   ]
  },
  {
   "cell_type": "code",
   "execution_count": null,
   "metadata": {},
   "outputs": [],
   "source": [
    "# build the optimisation datasets\n",
    "optimization_set = OptimizationResultCollection.from_server(\n",
    "    client=FractalClient(),\n",
    "    datasets=[\n",
    "        \"OpenFF Gen 2 Opt Set 1 Roche\",\n",
    "        \"OpenFF Gen 2 Opt Set 2 Coverage\",\n",
    "        \"OpenFF Gen 2 Opt Set 3 Pfizer Discrepancy\",\n",
    "        \"OpenFF Gen 2 Opt Set 4 eMolecules Discrepancy\",\n",
    "        \"OpenFF Gen 2 Opt Set 5 Bayer\",\n",
    "    ],\n",
    "    spec_name=\"default\",\n",
    ")"
   ]
  },
  {
   "cell_type": "code",
   "execution_count": null,
   "metadata": {},
   "outputs": [],
   "source": [
    "# filter redundant similar conformers and use common filters\n",
    "optimization_set = optimization_set.filter(\n",
    "    ConformerRMSDFilter(max_conformers=10),\n",
    "    *default_filters,\n",
    "\n",
    ")"
   ]
  },
  {
   "cell_type": "code",
   "execution_count": null,
   "metadata": {},
   "outputs": [],
   "source": [
    "# save the filtered optimisation dataset to file\n",
    "with open(\"quantum-chemical-data-sets/reduced-set-opt-set.json\", \"w\") as file:\n",
    "    file.write(optimization_set.json())"
   ]
  },
  {
   "cell_type": "code",
   "execution_count": null,
   "metadata": {},
   "outputs": [],
   "source": [
    "# work out which angle SMIRKS should be refit\n",
    "select_parameters(\n",
    "    optimization_set,\n",
    "    parameter_types=[\"Angles\"],\n",
    "    output_path=\"quantum-chemical-data-sets/reduced-set-angles-params-smirks.json\",\n",
    "    force_field=initial_forcefield,\n",
    ")"
   ]
  },
  {
   "cell_type": "code",
   "execution_count": null,
   "metadata": {},
   "outputs": [],
   "source": [
    "# work out which bond SMIRKS should be refit\n",
    "select_parameters(\n",
    "    optimization_set,\n",
    "    parameter_types=[\"Bonds\"],\n",
    "    output_path=\"quantum-chemical-data-sets/reduced-set-bonds-params-smirks.json\",\n",
    "    force_field=initial_forcefield,\n",
    ")"
   ]
  },
  {
   "attachments": {},
   "cell_type": "markdown",
   "metadata": {},
   "source": [
    "# Quantum Chemical Benchmarks\n",
    "\n",
    "We will now construct the valence benchmark dataset using OpenFF-QCSubmit, this is a subset of the benchmark dataset used in the development of the SAGE force field containing only molecules with un-optimised vdW types removed."
   ]
  },
  {
   "cell_type": "code",
   "execution_count": null,
   "metadata": {},
   "outputs": [],
   "source": [
    "import warnings\n",
    "from openff.toolkit.utils import (\n",
    "    GLOBAL_TOOLKIT_REGISTRY,\n",
    "    OpenEyeToolkitWrapper,\n",
    "    UndefinedStereochemistryError,RDKitToolkitWrapper\n",
    ")\n",
    "\n",
    "warnings.filterwarnings(\"ignore\")\n",
    "logging.getLogger(\"openff.toolkit\").setLevel(logging.ERROR)\n",
    "\n",
    "# Make sure we consistently only use OE in this script\n",
    "for toolkit in GLOBAL_TOOLKIT_REGISTRY.registered_toolkits:\n",
    "    if isinstance(toolkit, OpenEyeToolkitWrapper):\n",
    "        continue\n",
    "    GLOBAL_TOOLKIT_REGISTRY.deregister_toolkit(toolkit)"
   ]
  },
  {
   "attachments": {},
   "cell_type": "markdown",
   "metadata": {},
   "source": [
    "Load the dataset from our cached OpenFF-QCSubmit collection as downloading the dataset can take a long time."
   ]
  },
  {
   "cell_type": "code",
   "execution_count": null,
   "metadata": {},
   "outputs": [],
   "source": [
    "result_collection = OptimizationResultCollection.parse_file(\n",
    "    \"quantum-chemical-data-sets/openff-industry-benchmark-v1.1-raw.json\"\n",
    ")"
   ]
  },
  {
   "attachments": {},
   "cell_type": "markdown",
   "metadata": {},
   "source": [
    "Manually remove some molecules which have implicit hydrogens in the smiles which stops us from building the molecule with the correct atom ordering."
   ]
  },
  {
   "cell_type": "code",
   "execution_count": null,
   "metadata": {},
   "outputs": [],
   "source": [
    "ind_to_del = []\n",
    "for i, item in enumerate(result_collection.entries['https://api.qcarchive.molssi.org:443/']):\n",
    "    if 'NH+' in item.cmiles or 'nH+' in item.cmiles:\n",
    "        ind_to_del.append(i)\n",
    "\n",
    "for ind in sorted(ind_to_del, reverse=True):\n",
    "    print('deleting implicit hydrogen entry: ', ind)\n",
    "    del result_collection.entries['https://api.qcarchive.molssi.org:443/'][ind]"
   ]
  },
  {
   "attachments": {},
   "cell_type": "markdown",
   "metadata": {},
   "source": [
    "Apply filters and check the final stereochemistry of each optimised molecule, then try and buld an openMM system to make sure we can parameterise each entry including an AM1 charge calculation."
   ]
  },
  {
   "cell_type": "code",
   "execution_count": null,
   "metadata": {},
   "outputs": [],
   "source": [
    "class InvalidCMILESFilter(CMILESResultFilter):\n",
    "    \"Add a custom invalid smiles filter to remove any molecules we missed\"\n",
    "    def _filter_function(self, result) -> bool:\n",
    "\n",
    "        try:\n",
    "            Molecule.from_mapped_smiles(result.cmiles, allow_undefined_stereo=True)\n",
    "        except (ValueError, SmilesParsingError):\n",
    "            return False\n",
    "\n",
    "        return True\n",
    "\n",
    "result_collection = result_collection.filter(\n",
    "        ElementFilter(\n",
    "            # The elements supported by SMIRNOFF\n",
    "            allowed_elements=[\"H\", \"C\", \"N\", \"O\", \"Cl\", \"Br\"]\n",
    "        ),\n",
    "        InvalidCMILESFilter(),\n",
    "        RecordStatusFilter(status=RecordStatusEnum.complete),\n",
    "        ConnectivityFilter(),\n",
    "    )"
   ]
  },
  {
   "cell_type": "code",
   "execution_count": null,
   "metadata": {},
   "outputs": [],
   "source": [
    "# process the final molecules via openeye and check the stereochemistry\n",
    "_, molecules = zip(*result_collection.to_records())\n",
    "\n",
    "unique_molecules = set()\n",
    "\n",
    "for molecule in molecules:\n",
    "\n",
    "    # Re-perceive the stereochemistry from the final conformer.\n",
    "    oe_molecule = molecule.to_openeye()\n",
    "    oechem.OE3DToInternalStereo(oe_molecule)\n",
    "\n",
    "    try:\n",
    "        molecule = Molecule.from_openeye(oe_molecule)\n",
    "    except UndefinedStereochemistryError:\n",
    "        print(f\"skipping {molecule.to_smiles()} - un-perceivable stereo\")\n",
    "        continue\n",
    "\n",
    "    unique_molecules.add(molecule.to_smiles(isomeric=True, mapped=False))"
   ]
  },
  {
   "cell_type": "code",
   "execution_count": null,
   "metadata": {},
   "outputs": [],
   "source": [
    "def _can_parameterize(smiles: str):\n",
    "    \"\"\"For each molecule try and build and openMM system to ensure we can parameterize the molecule, this includes an AM1 charge calculation.\"\"\"\n",
    "\n",
    "    try:\n",
    "\n",
    "        for toolkit in GLOBAL_TOOLKIT_REGISTRY.registered_toolkits:\n",
    "\n",
    "            if isinstance(toolkit, OpenEyeToolkitWrapper):\n",
    "                continue\n",
    "\n",
    "            GLOBAL_TOOLKIT_REGISTRY.deregister_toolkit(toolkit)\n",
    "\n",
    "        molecule = Molecule.from_smiles(smiles, allow_undefined_stereo=True)\n",
    "        force_field = ForceField(\"openff-2.0.0.offxml\")\n",
    "\n",
    "        force_field.create_openmm_system(molecule.to_topology())\n",
    "\n",
    "    except:\n",
    "        return smiles, False\n",
    "\n",
    "    return smiles, True"
   ]
  },
  {
   "cell_type": "code",
   "execution_count": null,
   "metadata": {},
   "outputs": [],
   "source": [
    "filtered_smiles = set()\n",
    "for smiles in tqdm(unique_molecules, desc=\"Parameterising molecules\", ncols=80):\n",
    "    s, should_retain = _can_parameterize(smiles=smiles)\n",
    "    if should_retain:\n",
    "        filtered_smiles.add(s)\n",
    "        "
   ]
  },
  {
   "attachments": {},
   "cell_type": "markdown",
   "metadata": {},
   "source": [
    "Only keep molecules for which systems could be made"
   ]
  },
  {
   "cell_type": "code",
   "execution_count": null,
   "metadata": {},
   "outputs": [],
   "source": [
    "result_collection = result_collection.filter(\n",
    "    SMILESFilter(smiles_to_include=[*filtered_smiles]),\n",
    ")"
   ]
  },
  {
   "cell_type": "code",
   "execution_count": null,
   "metadata": {},
   "outputs": [],
   "source": [
    "def _process_molecule(record_and_molecule) -> oechem.OEMol:\n",
    "    \"\"\"Convert a QC record and its associated molecule into an OE molecule which\n",
    "    has been tagged with the associated SMILES, final energy and record id.\"\"\"\n",
    "\n",
    "    record, molecule = record_and_molecule\n",
    "\n",
    "    oe_molecule = molecule.to_openeye()\n",
    "    oechem.OE3DToInternalStereo(oe_molecule)\n",
    "\n",
    "    final_energy = record.get_final_energy() * qcelemental.constants.hartree2kcalmol\n",
    "\n",
    "    # add name and energy tag to the mol\n",
    "    oechem.OESetSDData(oe_molecule, \"SMILES QCArchive\", molecule.to_smiles())\n",
    "    oechem.OESetSDData(oe_molecule, \"Energy QCArchive\", str(final_energy))\n",
    "    oechem.OESetSDData(oe_molecule, \"Record QCArchive\", str(record.id))\n",
    "\n",
    "    return oe_molecule"
   ]
  },
  {
   "attachments": {},
   "cell_type": "markdown",
   "metadata": {},
   "source": [
    "Group the molecule conformations and write out SDF files to `quantum-chemical-data-sets/01-processed-qm-sdf` note a `tar` of these files has been included to save size. \n",
    "We also filter the OpenFF-QCSubmit dataset to contain the same records and save it as `quantum-chemical-data-sets/01-processed-qm.json`."
   ]
  },
  {
   "cell_type": "code",
   "execution_count": null,
   "metadata": {},
   "outputs": [],
   "source": [
    "records_and_molecules = result_collection.to_records()\n",
    "\n",
    "grouped_molecules = defaultdict(list)\n",
    "\n",
    "for record, molecule in records_and_molecules:\n",
    "\n",
    "    molecule = molecule.canonical_order_atoms()\n",
    "\n",
    "    smiles = molecule.to_smiles(isomeric=False, explicit_hydrogens=True)\n",
    "    grouped_molecules[smiles].append((record, molecule))\n",
    "\n",
    "processed_oe_molecules = [\n",
    "    _process_molecule(record_and_molecule)\n",
    "    for record_and_molecule in records_and_molecules\n",
    "]"
   ]
  },
  {
   "cell_type": "code",
   "execution_count": null,
   "metadata": {},
   "outputs": [],
   "source": [
    "output_steam = oechem.oemolostream(\"quantum-chemical-data-sets/01-processed-qm.sdf\")\n",
    "\n",
    "final_record_ids = set()\n",
    "\n",
    "for i, oe_molecule in enumerate(processed_oe_molecules):\n",
    "\n",
    "    final_record_ids.add(oechem.OEGetSDData(oe_molecule, \"Record QCArchive\"))\n",
    "\n",
    "    oe_molecule.SetTitle(f\"full_{i + 1}\")\n",
    "    oechem.OEWriteConstMolecule(output_steam, oe_molecule)\n",
    "\n",
    "output_steam.close()\n",
    "\n",
    "result_collection.entries[client.address] = [\n",
    "    entry\n",
    "    for entry in result_collection.entries[client.address]\n",
    "    if entry.record_id in final_record_ids\n",
    "]\n",
    "\n",
    "with open(\"quantum-chemical-data-sets/01-processed-qm.json\", \"w\") as file:\n",
    "    file.write(result_collection.json())"
   ]
  }
 ],
 "metadata": {
  "kernelspec": {
   "display_name": "dexp_old",
   "language": "python",
   "name": "python3"
  },
  "language_info": {
   "codemirror_mode": {
    "name": "ipython",
    "version": 3
   },
   "file_extension": ".py",
   "mimetype": "text/x-python",
   "name": "python",
   "nbconvert_exporter": "python",
   "pygments_lexer": "ipython3",
   "version": "3.8.16"
  },
  "orig_nbformat": 4
 },
 "nbformat": 4,
 "nbformat_minor": 2
}
