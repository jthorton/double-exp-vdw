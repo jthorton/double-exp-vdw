{
 "cells": [
  {
   "cell_type": "markdown",
   "id": "ad458182",
   "metadata": {},
   "source": [
    "# For more details on the data curation and fitting process please checkout these links\n",
    "https://openforcefield.org/community/news/science-updates/ff-training-example-2021-07-01/\n",
    "\n",
    "https://pubs.acs.org/doi/10.1021/acs.jctc.3c00039\n",
    "\n",
    "Disclaimer: QCArchive is a living repository of data and some of the datasets used might have some unfinished calculations that got updated later and the exact retrieval of records may differ on re-runs. To circumvent this, all the record ids used in fitting were stored in a json file for reproducibility. Please use those file while generating the ForceBalance inputs, or re-running the fits in case of any mismatch in the downloaded records.\n"
   ]
  },
  {
   "cell_type": "code",
   "execution_count": null,
   "id": "35817384",
   "metadata": {},
   "outputs": [],
   "source": [
    "import copy\n",
    "import functools\n",
    "import json\n",
    "import logging\n",
    "import os.path\n",
    "\n",
    "from collections import defaultdict\n",
    "from multiprocessing import Pool\n",
    "from tempfile import NamedTemporaryFile\n",
    "from pathlib import Path\n",
    "\n",
    "from openff.qcsubmit.results import (\n",
    "    OptimizationResultCollection, TorsionDriveResultCollection,\n",
    ")\n",
    "from openff.qcsubmit.results.filters import (\n",
    "    ConformerRMSDFilter, ConnectivityFilter,\n",
    "    ElementFilter,\n",
    "    HydrogenBondFilter,\n",
    "    RecordStatusFilter,\n",
    "    ResultRecordFilter,\n",
    "    UnperceivableStereoFilter\n",
    ")\n",
    "from openff.toolkit.typing.engines.smirnoff import ForceField\n",
    "from openff.toolkit.utils.exceptions import UnassignedMoleculeChargeException\n",
    "from qcportal import FractalClient\n",
    "from qcportal.models import TorsionDriveRecord\n",
    "from qcportal.models.records import RecordStatusEnum\n",
    "from tqdm import tqdm\n",
    "\n",
    "\n",
    "from openff.bespokefit.optimizers.forcebalance import ForceBalanceInputFactory\n",
    "from openff.bespokefit.schema.fitting import OptimizationSchema, OptimizationStageSchema\n",
    "from openff.bespokefit.schema.optimizers import ForceBalanceSchema\n",
    "from openff.bespokefit.schema.smirnoff import AngleHyperparameters, AngleSMIRKS, BondHyperparameters, \\\n",
    "    BondSMIRKS, ProperTorsionHyperparameters, ProperTorsionSMIRKS\n",
    "from openff.bespokefit.schema.targets import (\n",
    "    OptGeoTargetSchema,\n",
    "    TorsionProfileTargetSchema, )"
   ]
  },
  {
   "cell_type": "code",
   "execution_count": null,
   "id": "d3eab1db",
   "metadata": {},
   "outputs": [],
   "source": [
    "logging.basicConfig(level=logging.INFO)"
   ]
  },
  {
   "cell_type": "markdown",
   "id": "b120010b",
   "metadata": {},
   "source": [
    "# Some utility functions to check charge assignment failures, and selecting parameters for optimization"
   ]
  },
  {
   "cell_type": "code",
   "execution_count": null,
   "id": "59601532",
   "metadata": {},
   "outputs": [],
   "source": [
    "class ChargeCheckFilter(ResultRecordFilter):\n",
    "    def _filter_function(self, result, record, molecule) -> bool:\n",
    "        # Some of the molecules fail charging with am1bccelf10, either\n",
    "        # because of lack of bccs, or due to failed conformer generation, sometimes it\n",
    "        # cannot be captured with just the cmiles present in the record\n",
    "        # metadata, so reading from file and checking it\n",
    "        can_be_charged = True\n",
    "\n",
    "        molecule = copy.deepcopy(molecule)\n",
    "        molecule._conformers = [molecule.conformers[0]]\n",
    "\n",
    "        try:\n",
    "            with NamedTemporaryFile(suffix=\".sdf\") as file:\n",
    "                molecule.to_file(file.name, \"SDF\")\n",
    "                molecule.from_file(file.name)\n",
    "                molecule.assign_partial_charges(partial_charge_method=\"am1bccelf10\")\n",
    "\n",
    "        except UnassignedMoleculeChargeException:\n",
    "            can_be_charged = False\n",
    "\n",
    "        return can_be_charged\n",
    "\n",
    "\n",
    "def label_ids(record_and_molecule, force_field, parameter_types):\n",
    "    record, molecule = record_and_molecule\n",
    "\n",
    "    full_labels = force_field.label_molecules(molecule.to_topology())[0]\n",
    "\n",
    "    parameter_ids = set()\n",
    "\n",
    "    for parameter_type in parameter_types:\n",
    "\n",
    "        parameter_labels = full_labels[parameter_type]\n",
    "\n",
    "        for indices, parameter in parameter_labels.items():\n",
    "\n",
    "            if isinstance(record, TorsionDriveRecord) and {*indices[1:3]} != {\n",
    "                *record.keywords.dihedrals[0][1:3]\n",
    "            }:\n",
    "                continue\n",
    "\n",
    "            parameter_ids.add(parameter.id)\n",
    "\n",
    "    return [*parameter_ids]\n",
    "\n",
    "\n",
    "def select_parameters(training_set, parameter_types, output_path, force_field):\n",
    "    # Print out coverage information.\n",
    "    coverage = defaultdict(int)\n",
    "\n",
    "    with Pool(4) as pool:\n",
    "\n",
    "        for parameter_ids in tqdm(\n",
    "                pool.imap(\n",
    "                    functools.partial(\n",
    "                        label_ids, force_field=force_field, parameter_types=parameter_types\n",
    "                    ),\n",
    "                    training_set.to_records(),\n",
    "                ),\n",
    "                total=training_set.n_results,\n",
    "        ):\n",
    "\n",
    "            for parameter_id in parameter_ids:\n",
    "                coverage[parameter_id] += 1\n",
    "\n",
    "    # Save out the SMIRKS which should be trained against this set.\n",
    "    with open(output_path, \"w\") as file:\n",
    "\n",
    "        selected_parameters = defaultdict(list)\n",
    "\n",
    "        for parameter_type in parameter_types:\n",
    "\n",
    "            for parameter_id, count in coverage.items():\n",
    "\n",
    "                found_parameters = force_field.get_parameter_handler(\n",
    "                    parameter_type\n",
    "                ).get_parameter({\"id\": parameter_id})\n",
    "\n",
    "                if count < 5 or len(found_parameters) == 0:\n",
    "                    continue\n",
    "\n",
    "                selected_parameters[parameter_type].append(found_parameters[0].smirks)\n",
    "\n",
    "        json.dump(selected_parameters, file)"
   ]
  },
  {
   "cell_type": "markdown",
   "id": "59f6c961",
   "metadata": {},
   "source": [
    "# Create a directory to store the datasets information, and read in the forcefield to optimize"
   ]
  },
  {
   "cell_type": "code",
   "execution_count": null,
   "id": "9701efa6",
   "metadata": {},
   "outputs": [],
   "source": [
    "Path(\"./data-sets\").mkdir(parents=True, exist_ok=True)\n",
    "\n",
    "initial_forcefield = ForceField('force-field_7.offxml', load_plugins=True, allow_cosmetic_attributes=True)"
   ]
  },
  {
   "cell_type": "markdown",
   "id": "ceed044a",
   "metadata": {},
   "source": [
    "# Common filters to apply on the downloaded QM data (for both torsion scans and optimized geometries)"
   ]
  },
  {
   "cell_type": "code",
   "execution_count": null,
   "id": "b51c7e36",
   "metadata": {},
   "outputs": [],
   "source": [
    "default_filters = [\n",
    "    RecordStatusFilter(status=RecordStatusEnum.complete),\n",
    "    ConnectivityFilter(tolerance=1.2),\n",
    "    UnperceivableStereoFilter(),\n",
    "    ElementFilter(\n",
    "        # The elements being optimized in DEXP Forcefields. Rest of the elements lack physical property data for vdW training\n",
    "        allowed_elements=[\"H\", \"C\", \"N\", \"O\", \"Cl\", \"Br\"]\n",
    "    ),\n",
    "    ChargeCheckFilter(),\n",
    "]"
   ]
  },
  {
   "cell_type": "markdown",
   "id": "0712fb61",
   "metadata": {},
   "source": [
    "# Download torsion scan data from QCArchive"
   ]
  },
  {
   "cell_type": "code",
   "execution_count": null,
   "id": "9caa797c",
   "metadata": {},
   "outputs": [],
   "source": [
    "# Pull down the main torsion drive and optimization sets and filter out any records\n",
    "# which have not completed or which inadvertently contain intra-molecular h-bonds.\n",
    "client = FractalClient()\n",
    "\n",
    "torsion_set = TorsionDriveResultCollection.from_server(\n",
    "    client=client,\n",
    "    datasets=[\n",
    "        \"OpenFF Gen 2 Torsion Set 1 Roche 2\",\n",
    "        \"OpenFF Gen 2 Torsion Set 2 Coverage 2\",\n",
    "        \"OpenFF Gen 2 Torsion Set 3 Pfizer Discrepancy 2\",\n",
    "        \"OpenFF Gen 2 Torsion Set 4 eMolecules Discrepancy 2\",\n",
    "        \"OpenFF Gen 2 Torsion Set 5 Bayer 2\",\n",
    "        \"OpenFF Gen 2 Torsion Set 6 supplemental 2\",\n",
    "        \"OpenFF Amide Torsion Set v1.0\",\n",
    "    ],\n",
    "    spec_name=\"default\",\n",
    ")\n",
    "\n",
    "# Drop record ids with known inconsistent optimization histories or which cause failures\n",
    "# in ForceBalance.\n",
    "torsion_set.entries[client.address] = [\n",
    "    entry\n",
    "    for entry in torsion_set.entries[client.address]\n",
    "    if entry.record_id\n",
    "       not in [\n",
    "           \"6098580\",\n",
    "           \"2703504\",\n",
    "           \"2703505\",\n",
    "           \"18045478\",\n",
    "       ]\n",
    "]"
   ]
  },
  {
   "cell_type": "code",
   "execution_count": null,
   "id": "7a127585",
   "metadata": {},
   "outputs": [],
   "source": [
    "with open(\"data-sets/full-td-set-before-filtering.json\", \"w\") as file:\n",
    "    file.write(torsion_set.json())"
   ]
  },
  {
   "cell_type": "markdown",
   "id": "5e48c9e5",
   "metadata": {},
   "source": [
    "# Apply the filters on the downloaded data and store the remaining records in json format. Select the torsion parameters to optimize as well based on the molecules present in the training data."
   ]
  },
  {
   "cell_type": "code",
   "execution_count": null,
   "id": "094c88b5",
   "metadata": {},
   "outputs": [],
   "source": [
    "torsion_set = torsion_set.filter(\n",
    "    HydrogenBondFilter(method=\"baker-hubbard\"), \n",
    "    *default_filters\n",
    ")\n",
    "\n",
    "with open(\"data-sets/reduced-set-td-set.json\", \"w\") as file:\n",
    "    file.write(torsion_set.json())\n",
    "\n",
    "select_parameters(\n",
    "    torsion_set,\n",
    "    parameter_types=[\"ProperTorsions\"],\n",
    "    output_path=\"data-sets/reduced-set-proper-torsions-params-smirks.json\",\n",
    "    force_field=initial_forcefield\n",
    ")"
   ]
  },
  {
   "cell_type": "markdown",
   "id": "de363e9d",
   "metadata": {},
   "source": [
    "# Download optimized geometries data from QCArchive"
   ]
  },
  {
   "cell_type": "code",
   "execution_count": null,
   "id": "665f4931",
   "metadata": {},
   "outputs": [],
   "source": [
    "optimization_set = OptimizationResultCollection.from_server(\n",
    "    client=FractalClient(),\n",
    "    datasets=[\n",
    "        \"OpenFF Gen 2 Opt Set 1 Roche\",\n",
    "        \"OpenFF Gen 2 Opt Set 2 Coverage\",\n",
    "        \"OpenFF Gen 2 Opt Set 3 Pfizer Discrepancy\",\n",
    "        \"OpenFF Gen 2 Opt Set 4 eMolecules Discrepancy\",\n",
    "        \"OpenFF Gen 2 Opt Set 5 Bayer\",\n",
    "    ],\n",
    "    spec_name=\"default\",\n",
    ")"
   ]
  },
  {
   "cell_type": "markdown",
   "id": "7fc480bb",
   "metadata": {},
   "source": [
    "# Apply the filters on the downloaded optimized geometries data. Store the remaining record ids in a json file. And, select bond and angle parameters to optimize."
   ]
  },
  {
   "cell_type": "code",
   "execution_count": null,
   "id": "4b243ab1",
   "metadata": {},
   "outputs": [],
   "source": [
    "optimization_set = optimization_set.filter(\n",
    "    ConformerRMSDFilter(max_conformers=10),\n",
    "    *default_filters,\n",
    "\n",
    ")\n",
    "\n",
    "with open(\"data-sets/reduced-set-opt-set.json\", \"w\") as file:\n",
    "    file.write(optimization_set.json())"
   ]
  },
  {
   "cell_type": "code",
   "execution_count": null,
   "id": "d01bb669",
   "metadata": {},
   "outputs": [],
   "source": [
    "select_parameters(\n",
    "    optimization_set,\n",
    "    parameter_types=[\"Angles\"],\n",
    "    output_path=\"data-sets/reduced-set-angles-params-smirks.json\",\n",
    "    force_field=initial_forcefield,\n",
    ")\n",
    "\n",
    "select_parameters(\n",
    "    optimization_set,\n",
    "    parameter_types=[\"Bonds\"],\n",
    "    output_path=\"data-sets/reduced-set-bonds-params-smirks.json\",\n",
    "    force_field=initial_forcefield,\n",
    ")"
   ]
  },
  {
   "cell_type": "markdown",
   "id": "de53240a",
   "metadata": {},
   "source": [
    "# Creating ForceBalance outputs"
   ]
  },
  {
   "cell_type": "markdown",
   "id": "3f72e49b",
   "metadata": {},
   "source": [
    "# Reading back the record ids from json files"
   ]
  },
  {
   "cell_type": "code",
   "execution_count": null,
   "id": "72605513",
   "metadata": {},
   "outputs": [],
   "source": [
    "Path(\"./schemas/optimizations/\").mkdir(parents=True, exist_ok=True)\n",
    "\n",
    "torsion_training_set = TorsionDriveResultCollection.parse_file(\n",
    "    \"data-sets/reduced-set-td-set.json\"\n",
    ")\n",
    "optimization_training_set = OptimizationResultCollection.parse_file(\n",
    "    \"data-sets/reduced-set-opt-set.json\"\n",
    ")"
   ]
  },
  {
   "cell_type": "markdown",
   "id": "f839457a",
   "metadata": {},
   "source": [
    "# Passing initial forcefield and parameters to optimize"
   ]
  },
  {
   "cell_type": "code",
   "execution_count": null,
   "id": "2273fe3e",
   "metadata": {},
   "outputs": [],
   "source": [
    "# to pick initial values and parameters to optimize\n",
    "# enter\n",
    "custom_force_field = 'force-field.offxml'\n",
    "initial_force_field = ForceField('force-field_7.offxml', load_plugins=True, allow_cosmetic_attributes=True)\n",
    "initial_force_field.to_file(custom_force_field)\n",
    "\n",
    "# Define the parameters to train\n",
    "with open(\"data-sets/reduced-set-angles-params-smirks.json\") as file:\n",
    "    angle_smirks = json.load(file)\n",
    "with open(\"data-sets/reduced-set-bonds-params-smirks.json\") as file:\n",
    "    bond_smirks = json.load(file)\n",
    "with open(\"data-sets/reduced-set-proper-torsions-params-smirks.json\") as file:\n",
    "    torsion_smirks = json.load(file)\n",
    "\n",
    "target_parameters = [\n",
    "    *[\n",
    "        AngleSMIRKS(smirks=smirks, attributes={\"k\", \"angle\"})\n",
    "        for smirks in angle_smirks[\"Angles\"]\n",
    "    ],\n",
    "    *[\n",
    "        BondSMIRKS(smirks=smirks, attributes={\"k\", \"length\"})\n",
    "        for smirks in bond_smirks[\"Bonds\"]\n",
    "    ],\n",
    "    *[\n",
    "        ProperTorsionSMIRKS(\n",
    "            smirks=smirks,\n",
    "            attributes={\n",
    "                f\"k{i + 1}\"\n",
    "                for i in range(\n",
    "                    len(\n",
    "                        initial_force_field.get_parameter_handler(\"ProperTorsions\")\n",
    "                        .parameters[smirks]\n",
    "                        .k\n",
    "                    )\n",
    "                )\n",
    "            },\n",
    "        )\n",
    "        for smirks in torsion_smirks[\"ProperTorsions\"]\n",
    "    ],\n",
    "]"
   ]
  },
  {
   "cell_type": "markdown",
   "id": "85788dea",
   "metadata": {},
   "source": [
    "# Define the full schema for the optimization, which includes the hyperparameters for optimization, weights of the targets, and target specific hyperparameters, calculation setup for remote workers, and generate the inputs required for a ForceBalance run.\n"
   ]
  },
  {
   "cell_type": "code",
   "execution_count": null,
   "id": "015739a0",
   "metadata": {},
   "outputs": [],
   "source": [
    "optimization_schema = OptimizationSchema(\n",
    "    id=\"reduced-set-targets\",\n",
    "    initial_force_field=os.path.abspath(custom_force_field),\n",
    "    # Define the optimizer / ForceBalance specific settings.\n",
    "    stages=[\n",
    "        OptimizationStageSchema(\n",
    "            optimizer=ForceBalanceSchema(\n",
    "                max_iterations=50,\n",
    "                step_convergence_threshold=0.01,\n",
    "                objective_convergence_threshold=0.1,\n",
    "                gradient_convergence_threshold=0.1,\n",
    "                n_criteria=2,\n",
    "                initial_trust_radius=-1.0,\n",
    "                extras={\"wq_port\": \"55145\", \"asynchronous\": \"True\"},\n",
    "            ),\n",
    "            # Define the torsion profile targets to fit against.\n",
    "            targets=[\n",
    "                TorsionProfileTargetSchema(\n",
    "                    reference_data=torsion_training_set,\n",
    "                    energy_denominator=1.0,\n",
    "                    energy_cutoff=5.0,\n",
    "                    extras={\"remote\": \"1\"},\n",
    "                ),\n",
    "                OptGeoTargetSchema(\n",
    "                    reference_data=optimization_training_set,\n",
    "                    weight=0.1,\n",
    "                    extras={\"batch_size\": 1, \"remote\": \"1\"},\n",
    "                ),\n",
    "            ],\n",
    "            # Define the parameters to refit and the priors to place on them.\n",
    "            parameters=target_parameters,\n",
    "            parameter_hyperparameters=[\n",
    "                AngleHyperparameters(priors={'k': 100, 'angle': 20}),\n",
    "                BondHyperparameters(priors={'k': 100, 'length': 0.1}),\n",
    "                ProperTorsionHyperparameters(priors={'k': 15})\n",
    "            ],\n",
    ")])\n",
    "\n",
    "with open(\n",
    "        os.path.join(\n",
    "            \"./schemas\", \"optimizations\", f\"{optimization_schema.id}.json\"\n",
    "        ),\n",
    "        \"w\",\n",
    ") as file:\n",
    "    file.write(optimization_schema.json())\n",
    "\n",
    "# Generate the ForceBalance inputs\n",
    "ForceBalanceInputFactory.generate(\n",
    "    os.path.join(\n",
    "        optimization_schema.id\n",
    "    ),\n",
    "    optimization_schema.stages[0],\n",
    "    ForceField(optimization_schema.initial_force_field, load_plugins=True, allow_cosmetic_attributes=True)\n",
    ")"
   ]
  },
  {
   "cell_type": "markdown",
   "id": "af212f51",
   "metadata": {},
   "source": [
    "# Sample ForceBalance run with a single opt-geo target and a single torsion-profile target, and commenting out  `wq_port` so that remote workers were not needed, and running with `maxstep 0`\n",
    "\n",
    "Actual run of ForceBalance is compute intensive and it is advised to run on a HPC cluster. Here is a short demonstration of the fitting run with two targets."
   ]
  },
  {
   "cell_type": "code",
   "execution_count": null,
   "id": "5c1e417d",
   "metadata": {},
   "outputs": [],
   "source": [
    "%cd toy-fb-run"
   ]
  },
  {
   "cell_type": "code",
   "execution_count": null,
   "id": "6c0fa4c7",
   "metadata": {},
   "outputs": [],
   "source": [
    "!ForceBalance optimize.in"
   ]
  }
 ],
 "metadata": {
  "kernelspec": {
   "display_name": "Python 3 (ipykernel)",
   "language": "python",
   "name": "python3"
  },
  "language_info": {
   "codemirror_mode": {
    "name": "ipython",
    "version": 3
   },
   "file_extension": ".py",
   "mimetype": "text/x-python",
   "name": "python",
   "nbconvert_exporter": "python",
   "pygments_lexer": "ipython3",
   "version": "3.9.0"
  }
 },
 "nbformat": 4,
 "nbformat_minor": 5
}
