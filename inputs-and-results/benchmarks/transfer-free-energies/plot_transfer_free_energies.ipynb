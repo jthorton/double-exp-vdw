{
 "cells": [
  {
   "attachments": {},
   "cell_type": "markdown",
   "id": "e5700355",
   "metadata": {},
   "source": [
    "# Transfer free energy benchmarking\n",
    "\n",
    "This notebook will extract the aqueous and non-aqueous solvation free energies computed for a force field using absolv and compare them with experimental values. We will also calculate transfer free energies.\n",
    "\n",
    "Assuming the absolv calculations have been run and the results are stored in folders `aqueous-results` & `non-aqueous-results`. "
   ]
  },
  {
   "cell_type": "code",
   "execution_count": null,
   "id": "69defd29",
   "metadata": {},
   "outputs": [],
   "source": [
    "import matplotlib.pyplot as plt\n",
    "from collections import defaultdict\n",
    "from typing import List, Dict, Tuple, Union\n",
    "import numpy as np\n",
    "from openff.evaluator.datasets import PhysicalPropertyDataSet\n",
    "from openff.units import unit\n",
    "from absolv.models import TransferFreeEnergyResult\n",
    "import os\n",
    "from openmm import unit\n",
    "import seaborn as sns\n",
    "import scipy\n",
    "sns.set_theme()"
   ]
  },
  {
   "attachments": {},
   "cell_type": "markdown",
   "id": "2469d338",
   "metadata": {},
   "source": [
    "Start by extracting the experimental values for the aqueous and non-aqueous solvation free energies, note that the MNsol values are not included here and should be generated first."
   ]
  },
  {
   "cell_type": "code",
   "execution_count": null,
   "id": "2987b8ab",
   "metadata": {},
   "outputs": [],
   "source": [
    "experiment_hydration = {}\n",
    "experiment_non_aqueous = {}\n",
    "fsolv = PhysicalPropertyDataSet.from_json(\"../../../data-set-curation/physical-property/physical-data-sets/fsolv-filtered.json\")\n",
    "mnsol = PhysicalPropertyDataSet.from_json(\"../../../data-set-curation/physical-property/physical-data-sets/mnsol-filtered.json\")\n",
    "\n",
    "def extract_dataset(dataset: PhysicalPropertyDataSet, solute_only: bool) -> Dict[Union[str, Tuple[str, str]], Tuple[float, float]]:\n",
    "    \"\"\"Extract the experiemtnal property data into a dictionary of solute or solute solvent mixures with the experimental value and error.\"\"\"\n",
    "    dataset_data = {}\n",
    "    for property in dataset.properties:\n",
    "        components = property.substance.components\n",
    "        solute = [component.smiles for component in components if component.role.name == \"Solute\"][0]\n",
    "        index = solute\n",
    "        if not solute_only:\n",
    "            solvent = [component.smiles for component in components if component.role.name == \"Solvent\"][0]\n",
    "            index = (solute, solvent)\n",
    "\n",
    "        dataset_data[index] = (property.value.m / 4.184, property.uncertainty.m / 4.184 )\n",
    "    return dataset_data\n",
    "\n",
    "experiment_hydration = extract_dataset(dataset=fsolv, solute_only=True)\n",
    "experiment_non_aqueous = extract_dataset(dataset=mnsol, solute_only=False)\n"
   ]
  },
  {
   "attachments": {},
   "cell_type": "markdown",
   "id": "c905f47e",
   "metadata": {},
   "source": [
    "Gather the DE-FF calculated values for these two datasets"
   ]
  },
  {
   "cell_type": "code",
   "execution_count": null,
   "id": "ab9de6dc",
   "metadata": {},
   "outputs": [],
   "source": [
    "dexp_hyd_results, dexp_non_aqu_results = [], []\n",
    "for result_file in os.listdir(\"aqueous-results\"):\n",
    "    if \"schema\" not in result_file:\n",
    "        continue\n",
    "    dexp_hyd_results.append(TransferFreeEnergyResult.parse_file(os.path.join(\"aqueous-results\", result_file)))\n",
    "\n",
    "for result_file in os.listdir(\"non-aqueous-results\"):\n",
    "    if \"schema\" not in result_file:\n",
    "        continue\n",
    "    dexp_non_aqu_results.append(TransferFreeEnergyResult.parse_file(os.path.join(\"non-aqueous-results\", result_file)))\n",
    "    \n",
    "def gather_absolv_results(results: List[TransferFreeEnergyResult], solute_only: bool) -> Dict[Union[str, Tuple[str, str]], Tuple[float, float]]:\n",
    "    \"\"\"Extract the absolv results from a list of results schemas and store into a dictionary where the key is the solute or solute solvent mixture.\"\"\"\n",
    "    dataset_results = {}\n",
    "    for result in results:\n",
    "        solute = list(result.input_schema.system.solutes.keys())[0]\n",
    "        index = solute\n",
    "        if not solute_only:\n",
    "            solvent = list(result.input_schema.system.solvent_b.keys())[0]\n",
    "            index = (solute, solvent)\n",
    "\n",
    "        calc_value, error = result.delta_g_from_a_to_b_with_units\n",
    "        dataset_results[index] = (calc_value.value_in_unit(unit.kilocalorie_per_mole), error.value_in_unit(unit.kilocalorie_per_mole))\n",
    "    return dataset_results\n",
    "\n",
    "dexp_hyd_values = gather_absolv_results(results=dexp_hyd_results, solute_only=True)\n",
    "dexp_non_aqu_values = gather_absolv_results(results=dexp_non_aqu_results, solute_only=False)"
   ]
  },
  {
   "attachments": {},
   "cell_type": "markdown",
   "id": "2b75bfe1",
   "metadata": {},
   "source": [
    "Collect together the aqueous non-aqueous and transfer free energies and experimental values in the same ordering for comparison."
   ]
  },
  {
   "cell_type": "code",
   "execution_count": null,
   "id": "2d2e33ac",
   "metadata": {},
   "outputs": [],
   "source": [
    "experiment_trans, dexp_trans = [], []\n",
    "experiment_hyd, dexp_hyd = [], []\n",
    "experiment_non_aqu, dexp_non_aqu = [], []\n",
    "for mixture, non_aqu_data in dexp_non_aqu_values.items():\n",
    "    solute, solvent = mixture\n",
    "    experiment_non_aqu.append(experiment_non_aqueous[mixture][0])\n",
    "    dexp_non_aqu.append(non_aqu_data[0])\n",
    "    if solute in dexp_hyd_values:\n",
    "        # calculate the transfer free energy\n",
    "        experiment_trans.append(experiment_non_aqueous[mixture][0] - experiment_hydration[solute][0])\n",
    "        dexp_trans.append(non_aqu_data[0] - dexp_hyd_values[solute][0])\n",
    "\n",
    "# store the hydration free energies\n",
    "for solute, hydration_data in dexp_hyd_values.items():\n",
    "    try:\n",
    "        experiment_hyd.append(experiment_hydration[solute][0])\n",
    "        dexp_hyd.append(hydration_data[0])\n",
    "    except KeyError:\n",
    "        continue\n"
   ]
  },
  {
   "attachments": {},
   "cell_type": "markdown",
   "id": "ee64a594",
   "metadata": {},
   "source": [
    "Define analysis funtions to calculate reported errors and general bootstrapping method"
   ]
  },
  {
   "cell_type": "code",
   "execution_count": null,
   "id": "1d533ef6",
   "metadata": {},
   "outputs": [],
   "source": [
    "def reg_line(x, slope_value, intercept_value):\n",
    "    \"Calculate the regression line used in scatter plots.\"\n",
    "    return intercept_value + x * slope_value"
   ]
  },
  {
   "cell_type": "code",
   "execution_count": null,
   "id": "496c2e16",
   "metadata": {},
   "outputs": [],
   "source": [
    "def MUE(experiment_values: np.array, calculated_values: np.array) -> float:\n",
    "    \"Calculate the mean unsigned error between a set experimental and calculated values.\"\n",
    "    return np.mean(np.absolute(experiment_values - calculated_values))\n",
    "\n",
    "def RMSE(experiment_values: np.array, calculated_values: np.array) -> float:\n",
    "    \"Calculate the root mean squared error between a set experimental and calculated values.\"\n",
    "    return np.sqrt(np.mean((experiment_values - calculated_values) ** 2))\n",
    "\n",
    "def CORRELATION(experiment_values: np.array, calculated_values: np.array) -> float:\n",
    "    \"Calculate the r squared correlation between a set experimental and calculated values.\"\n",
    "    _, _, r_value, _, _ = scipy.stats.linregress(experiment_values, calculated_values)\n",
    "    return r_value**2\n",
    "\n",
    "def KTAU(experiment_values: np.array, calculated_values: np.array) -> float:\n",
    "    \"Calculate the kendal tau between a set experimental and calculated values.\"\n",
    "    return scipy.stats.kendalltau(experiment_values, calculated_values)[0]\n",
    "\n",
    "def MSE(experiment_values: np.array, calculated_values: np.array) -> float:\n",
    "    \"Calculate the mean signed error between a set experimental and calculated values.\"\n",
    "    return np.mean(calculated_values - experiment_values)"
   ]
  },
  {
   "cell_type": "code",
   "execution_count": null,
   "id": "47c1689c",
   "metadata": {},
   "outputs": [],
   "source": [
    "def compute_bootstraped_statistics(refernce_values: List[float], calculated_values: List[float], bootstrap_iterations: int = 1000, interval: float = 0.95) -> Dict[str, float]:\n",
    "    \"\"\"\n",
    "    Compute bootstraped statistics for each of the defined error metrics.\n",
    "    \"\"\"\n",
    "    # make a list of experimental and predicted values\n",
    "    experimental_values = np.array(refernce_values)\n",
    "    prediction_values = np.array(calculated_values)\n",
    "    mue = MUE(experiment_values=experimental_values, calculated_values=prediction_values)\n",
    "    rmse = RMSE(experimental_values, prediction_values)\n",
    "    correlation = CORRELATION(experimental_values, prediction_values)\n",
    "    tau = KTAU(experimental_values, prediction_values)\n",
    "    mse = MSE(experimental_values, prediction_values)\n",
    "    samples = len(experimental_values)\n",
    "    sample_statistics = defaultdict(list)\n",
    "    for _ in range(bootstrap_iterations):\n",
    "        sample_indicies = np.random.randint(low=0, high=samples, size=samples)\n",
    "        sample_experiment_values = experimental_values[sample_indicies]\n",
    "        sample_prediction_values = prediction_values[sample_indicies]\n",
    "\n",
    "        sample_statistics[\"MUE\"].append(MUE(experiment_values=sample_experiment_values, calculated_values=sample_prediction_values))\n",
    "        sample_statistics[\"RMSE\"].append(RMSE(experiment_values=sample_experiment_values, calculated_values=sample_prediction_values))\n",
    "        sample_statistics[\"R^2\"].append(CORRELATION(experiment_values=sample_experiment_values, calculated_values=sample_prediction_values))\n",
    "        sample_statistics[\"KTAU\"].append(KTAU(experiment_values=sample_experiment_values, calculated_values=sample_prediction_values))\n",
    "        sample_statistics[\"MSE\"].append(MSE(experiment_values=sample_experiment_values, calculated_values=sample_prediction_values))\n",
    "        \n",
    "     # Compute the confidence intervals.\n",
    "    lower_percentile_index = int(bootstrap_iterations * (1 - interval) / 2)\n",
    "    upper_percentile_index = int(bootstrap_iterations * (1 + interval) / 2)\n",
    "\n",
    "    final_stats = {}\n",
    "    for metric, base_value in [(\"MUE\", mue), (\"RMSE\", rmse), (\"R^2\", correlation), (\"KTAU\", tau), (\"MSE\", mse)]:\n",
    "        final_stats[metric] = base_value\n",
    "        sorted_samples = np.sort(sample_statistics[metric])\n",
    "        final_stats[metric + \"_lower\"] = sorted_samples[lower_percentile_index]\n",
    "        final_stats[metric + \"_higher\"] = sorted_samples[upper_percentile_index]\n",
    "\n",
    "    return final_stats"
   ]
  },
  {
   "cell_type": "code",
   "execution_count": null,
   "id": "6f1d7503",
   "metadata": {},
   "outputs": [],
   "source": [
    "# calculate the correlation and error\n",
    "dexp_slope, dexp_intercept, dexp_r_value, _, _, = scipy.stats.linregress(experiment_trans, dexp_trans)\n",
    "dexp_stats = compute_bootstraped_statistics(experiment_trans, dexp_trans)\n",
    "dexp_stats"
   ]
  },
  {
   "cell_type": "code",
   "execution_count": null,
   "id": "4939319d",
   "metadata": {},
   "outputs": [],
   "source": [
    "plt.scatter(experiment_trans, dexp_trans, label=f\"\"\"RMSE: {round(dexp_stats['RMSE'], 3)} kcal/mol\n",
    "MUE: {round(dexp_stats['MUE'], 3)} kcal/mol\"\"\", alpha=0.5)\n",
    "x = np.linspace(-10, 5, 1000)\n",
    "dexp_regression_line = reg_line(x, slope_value=dexp_slope, intercept_value=dexp_intercept)\n",
    "plt.plot(x, x, \"k--\")\n",
    "plt.plot(x, dexp_regression_line, label=rf\"$r^{2}$={round(dexp_stats['R^2'], 3)}\", color=\"red\")\n",
    "# plt.plot(x, sage_regression_line)\n",
    "plt.ylim(-9.5, 5)\n",
    "plt.xlim(-9.5, 5)\n",
    "fontdict={\"size\": 18}\n",
    "plt.xlabel(r\"Experimental $\\Delta$G$_{trans}$ (kcal/mol)\", fontdict=fontdict)\n",
    "plt.ylabel(r\"Calculated $\\Delta$G$_{trans}$ (kcal/mol)\", fontdict=fontdict)\n",
    "plt.legend()\n",
    "plt.tight_layout()\n",
    "plt.show()\n"
   ]
  },
  {
   "attachments": {},
   "cell_type": "markdown",
   "id": "75f0c49f",
   "metadata": {},
   "source": [
    "Now repeat for the other properties."
   ]
  },
  {
   "cell_type": "code",
   "execution_count": null,
   "id": "2e374810",
   "metadata": {},
   "outputs": [],
   "source": [
    "# calculate the correlation\n",
    "dexp_slope, dexp_intercept, dexp_r_value, _, _ = scipy.stats.linregress(experiment_hyd, dexp_hyd)\n",
    "dexp_hyd_stats = compute_bootstraped_statistics(experiment_hyd, dexp_hyd)\n",
    "dexp_hyd_stats"
   ]
  },
  {
   "cell_type": "code",
   "execution_count": null,
   "id": "b7771e7d",
   "metadata": {},
   "outputs": [],
   "source": [
    "plt.scatter(experiment_hyd, dexp_hyd, label=rf\"DEXP $r^{2}$={round(dexp_hyd_stats['R^2'], 3)}\", alpha=0.5)\n",
    "x = np.linspace(-12, 5, 1000)\n",
    "dexp_regression_line = reg_line(x, slope_value=dexp_slope, intercept_value=dexp_intercept)\n",
    "plt.plot(x, dexp_regression_line)\n",
    "plt.plot(x, x, \"k--\")\n",
    "plt.ylim(-12, 5)\n",
    "plt.xlim(-12, 5)\n",
    "fontdict={\"size\": 18}\n",
    "plt.xlabel(r\"Experimental $\\Delta$G$_{hyd}$ (kcal/mol)\", fontdict=fontdict)\n",
    "plt.ylabel(r\"Calculated $\\Delta$G$_{hyd}$ (kcal/mol)\", fontdict=fontdict)\n",
    "plt.legend()\n",
    "plt.tight_layout()\n",
    "plt.show()"
   ]
  },
  {
   "cell_type": "code",
   "execution_count": null,
   "id": "a78ab81d",
   "metadata": {},
   "outputs": [],
   "source": [
    "# calculate the correlation\n",
    "dexp_slope, dexp_intercept, dexp_r_value, _, _ = scipy.stats.linregress(experiment_non_aqu, dexp_non_aqu)\n",
    "dexp_non_aqu_stats = compute_bootstraped_statistics(experiment_non_aqu, dexp_non_aqu)\n",
    "dexp_non_aqu_stats"
   ]
  },
  {
   "cell_type": "code",
   "execution_count": null,
   "id": "c7cfa58d",
   "metadata": {},
   "outputs": [],
   "source": [
    "plt.scatter(experiment_non_aqu, dexp_non_aqu, label=rf\"DEXP $r^{2}$={round(dexp_non_aqu_stats['R^2'], 3)}\", alpha=0.5)\n",
    "x = np.linspace(-12, 1, 1000)\n",
    "dexp_regression_line = reg_line(x, slope_value=dexp_slope, intercept_value=dexp_intercept)\n",
    "plt.plot(x, x, \"k--\")\n",
    "plt.plot(x, dexp_regression_line)\n",
    "plt.ylim(-12, 0)\n",
    "plt.xlim(-12, 0)\n",
    "fontdict={\"size\": 18}\n",
    "plt.xlabel(r\"Experimental $\\Delta$G$_{sol}$ (kcal/mol)\", fontdict=fontdict)\n",
    "plt.ylabel(r\"Calculated $\\Delta$G$_{sol}$ (kcal/mol)\", fontdict=fontdict)\n",
    "plt.legend()\n",
    "plt.tight_layout()\n",
    "plt.show()"
   ]
  }
 ],
 "metadata": {
  "kernelspec": {
   "display_name": "dexp_plots",
   "language": "python",
   "name": "python3"
  },
  "language_info": {
   "codemirror_mode": {
    "name": "ipython",
    "version": 3
   },
   "file_extension": ".py",
   "mimetype": "text/x-python",
   "name": "python",
   "nbconvert_exporter": "python",
   "pygments_lexer": "ipython3",
   "version": "3.9.16"
  },
  "vscode": {
   "interpreter": {
    "hash": "9f920cdda746a7a86ed189a754d6e4406042df3c948bd6e801a2f49a9559775f"
   }
  }
 },
 "nbformat": 4,
 "nbformat_minor": 5
}
